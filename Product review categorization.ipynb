{
 "cells": [
  {
   "cell_type": "code",
   "execution_count": null,
   "metadata": {
    "id": "d0d214e7-1cdb-4bf3-80dc-e8c347ea0760"
   },
   "outputs": [],
   "source": [
    "# STEP 1: Install Dependencies\n",
    "!pip install -q datasets scikit-learn ibm-cos-sdk ibm-watson-machine-learning==1.0.312\n",
    "!pip install --upgrade pandas==2.1.\n"
   ]
  },
  {
   "cell_type": "code",
   "execution_count": null,
   "metadata": {
    "id": "79bb3771-e3c9-4391-b784-1df60e9fa9fb"
   },
   "outputs": [],
   "source": [
    "\n",
    "# STEP 2: Setup and Load Data\n",
    "import os, getpass, types, time\n",
    "import pandas as pd\n",
    "from botocore.client import Config\n",
    "import ibm_boto3\n",
    "\n",
    "# IBM WML Credentials\n",
    "credentials = {\n",
    "    \"url\": \"https://us-south.ml.cloud.ibm.com\",\n",
    "    \"apikey\": getpass.getpass(\"Enter your IBM Cloud API key: \")\n",
    "}\n",
    "\n",
    "# Project ID\n",
    "try:\n",
    "    project_id = os.environ[\"PROJECT_ID\"]\n",
    "except KeyError:\n",
    "    project_id = input(\"Enter your IBM Cloud project_id: \")\n",
    "\n",
    "# IBM Cloud Object Storage\n",
    "cos_client = ibm_boto3.client(service_name='s3',\n",
    "    ibm_api_key_id='******', #use actual api key  \n",
    "    ibm_auth_endpoint=\"https://iam.cloud.ibm.com/oidc/token\",\n",
    "    config=Config(signature_version='oauth'),\n",
    "    endpoint_url='https://s3.private.us-south.cloud-object-storage.appdomain.cloud'\n",
    ")\n",
    "\n",
    "bucket = 'bucket-****' #use actual bucket id  \n",
    "train_key = 'ecommerce_reviews_train.csv'\n",
    "test_key = 'ecommerce_reviews_test.csv'\n",
    "\n",
    "def __iter__(self): return 0\n",
    "\n",
    "# Load Training Data\n",
    "train_body = cos_client.get_object(Bucket=bucket, Key=train_key)['Body']\n",
    "if not hasattr(train_body, \"__iter__\"): train_body.__iter__ = types.MethodType(__iter__, train_body)\n",
    "train_data = pd.read_csv(train_body)\n",
    "\n",
    "# Load Test Data\n",
    "test_body = cos_client.get_object(Bucket=bucket, Key=test_key)['Body']\n",
    "if not hasattr(test_body, \"__iter__\"): test_body.__iter__ = types.MethodType(__iter__, test_body)\n",
    "test_data = pd.read_csv(test_body)\n",
    "\n",
    "print(\"Train shape:\", train_data.shape)\n",
    "print(\"Test shape:\", test_data.shape)"
   ]
  },
  {
   "cell_type": "code",
   "execution_count": null,
   "metadata": {
    "id": "48fe262e-d443-4427-ba53-78a249bf08f2"
   },
   "outputs": [],
   "source": [
    "# STEP 3: Initialize Watsonx Foundation Model\n",
    "from ibm_watson_machine_learning.foundation_models import Model\n",
    "from ibm_watson_machine_learning.foundation_models.utils.enums import ModelTypes\n",
    "from ibm_watson_machine_learning.metanames import GenTextParamsMetaNames as GenParams\n",
    "\n",
    "model_id = ModelTypes.FLAN_UL2\n",
    "\n",
    "parameters = {\n",
    "    GenParams.MAX_NEW_TOKENS: 10\n",
    "}\n",
    "\n",
    "model = Model(\n",
    "    model_id=model_id,\n",
    "    params=parameters,\n",
    "    credentials=credentials,\n",
    "    project_id=project_id\n",
    ")\n"
   ]
  },
  {
   "cell_type": "code",
   "execution_count": null,
   "metadata": {
    "id": "c507e318-e150-486b-ba8f-72bece4b4b54"
   },
   "outputs": [],
   "source": [
    "# STEP 4: Predict Categories Using Prompt Engineering\n",
    "instruction = \"\"\"\n",
    "Classify the product review into one of the following categories: Electronics, Clothing, or Home Appliances.\\n\n",
    "review: This phone has amazing battery life and is super fast.\\n\n",
    "category: Electronics\\n\\n\n",
    "review: The jeans fit perfectly and feel comfortable.\\n\n",
    "category: Clothing\\n\\n\n",
    "review: The blender works great and makes smoothies quickly.\\n\n",
    "category: Home Appliances\\n\\n\n",
    "\"\"\"\n",
    "\n",
    "results = []\n",
    "reviews = list(test_data[['Product ID', 'Review Text', 'Product Category']].values)  # Load Product ID & Actual Category\n",
    "\n",
    "for i, (product_id, review, actual_category) in enumerate(reviews):\n",
    "    prompt = instruction + f\"review: {review}\\ncategory:\"\n",
    "    response = model.generate_text(prompt=prompt)\n",
    "\n",
    "    predicted_category = response.strip()  # Directly use response as the predicted category\n",
    "    \n",
    "    print(f\" Product ID: {product_id} | Review: {review} | Predicted Category: {predicted_category} | Actual Category: {actual_category}\\n\")\n",
    "    time.sleep(0.5)  # To avoid rate limits"
   ]
  }
 ],
 "metadata": {
  "kernelspec": {
   "display_name": "Python 3.11",
   "language": "python",
   "name": "python3"
  },
  "language_info": {
   "codemirror_mode": {
    "name": "ipython",
    "version": 3
   },
   "file_extension": ".py",
   "mimetype": "text/x-python",
   "name": "python",
   "nbconvert_exporter": "python",
   "pygments_lexer": "ipython3",
   "version": "3.11.13"
  }
 },
 "nbformat": 4,
 "nbformat_minor": 4
}
